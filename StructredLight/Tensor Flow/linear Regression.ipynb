{
 "cells": [
  {
   "cell_type": "code",
   "execution_count": 1,
   "metadata": {
    "collapsed": true
   },
   "outputs": [],
   "source": [
    "import tensorflow as tf\n",
    "import numpy\n",
    "import matplotlib.pyplot as plt\n",
    "rng = numpy.random"
   ]
  },
  {
   "cell_type": "code",
   "execution_count": 2,
   "metadata": {
    "collapsed": true
   },
   "outputs": [],
   "source": [
    "learning_rate=0.01 #important parameter needs to be played a lot\n",
    "training_epochs = 1000\n",
    "display_step = 50"
   ]
  },
  {
   "cell_type": "code",
   "execution_count": 3,
   "metadata": {
    "collapsed": true
   },
   "outputs": [],
   "source": [
    "train_X = numpy.asarray([3.3,4.4,5.5,6.71,6.93,4.168,9.779,6.182,7.59,2.167,\n",
    "                         7.042,10.791,5.313,7.997,5.654,9.27,3.1])\n",
    "train_Y = numpy.asarray([1.7,2.76,2.09,3.19,1.694,1.573,3.366,2.596,2.53,1.221,\n",
    "                         2.827,3.465,1.65,2.904,2.42,2.94,1.3])\n",
    "n_samples = train_X.shape[0]"
   ]
  },
  {
   "cell_type": "code",
   "execution_count": 4,
   "metadata": {
    "collapsed": true
   },
   "outputs": [],
   "source": [
    "X = tf.placeholder(\"float\")\n",
    "Y = tf.placeholder(\"float\")\n",
    "W = tf.Variable(rng.randn(), name=\"weight\")\n",
    "b = tf.Variable(rng.randn(), name=\"bias\")"
   ]
  },
  {
   "cell_type": "code",
   "execution_count": 5,
   "metadata": {
    "collapsed": true
   },
   "outputs": [],
   "source": [
    "pred = tf.add(tf.multiply(X, W), b) #y=mx+b"
   ]
  },
  {
   "cell_type": "code",
   "execution_count": 8,
   "metadata": {
    "collapsed": true
   },
   "outputs": [],
   "source": [
    "cost = tf.reduce_sum(tf.pow(pred-Y, 2))/(2*n_samples)\n",
    "optimizer = tf.train.GradientDescentOptimizer(learning_rate).minimize(cost)\n",
    "init = tf.global_variables_initializer()"
   ]
  },
  {
   "cell_type": "code",
   "execution_count": 9,
   "metadata": {},
   "outputs": [
    {
     "name": "stdout",
     "output_type": "stream",
     "text": [
      "Epoch: 0050 cost= 0.087544382 W= 0.307198 b= 0.387068\n",
      "Epoch: 0100 cost= 0.086321585 W= 0.303771 b= 0.411714\n",
      "Epoch: 0150 cost= 0.085240155 W= 0.30055 b= 0.434894\n",
      "Epoch: 0200 cost= 0.084283814 W= 0.297519 b= 0.456696\n",
      "Epoch: 0250 cost= 0.083438091 W= 0.294668 b= 0.477202\n",
      "Epoch: 0300 cost= 0.082690224 W= 0.291988 b= 0.496487\n",
      "Epoch: 0350 cost= 0.082028933 W= 0.289466 b= 0.514625\n",
      "Epoch: 0400 cost= 0.081444167 W= 0.287095 b= 0.531684\n",
      "Epoch: 0450 cost= 0.080927037 W= 0.284865 b= 0.54773\n",
      "Epoch: 0500 cost= 0.080469780 W= 0.282767 b= 0.562822\n",
      "Epoch: 0550 cost= 0.080065466 W= 0.280794 b= 0.577016\n",
      "Epoch: 0600 cost= 0.079707973 W= 0.278938 b= 0.590366\n",
      "Epoch: 0650 cost= 0.079391889 W= 0.277192 b= 0.602923\n",
      "Epoch: 0700 cost= 0.079112463 W= 0.275551 b= 0.614732\n",
      "Epoch: 0750 cost= 0.078865454 W= 0.274007 b= 0.625836\n",
      "Epoch: 0800 cost= 0.078647062 W= 0.272555 b= 0.636281\n",
      "Epoch: 0850 cost= 0.078454010 W= 0.27119 b= 0.646104\n",
      "Epoch: 0900 cost= 0.078283325 W= 0.269906 b= 0.655344\n",
      "Epoch: 0950 cost= 0.078132451 W= 0.268697 b= 0.664035\n",
      "Epoch: 1000 cost= 0.077999122 W= 0.267561 b= 0.672208\n",
      "Optimization Finished!\n",
      "Training cost= 0.0779991 W= 0.267561 b= 0.672208 \n",
      "\n"
     ]
    },
    {
     "data": {
      "image/png": "[encoded data removed]",
      "text/plain": [
       "<matplotlib.figure.Figure at 0x2396e117be0>"
      ]
     },
     "metadata": {},
     "output_type": "display_data"
    }
   ],
   "source": [
    "with tf.Session() as sess:\n",
    "\n",
    "    # Run the initializer\n",
    "    sess.run(init)\n",
    "\n",
    "    # Fit all training data\n",
    "    for epoch in range(training_epochs):\n",
    "        for (x, y) in zip(train_X, train_Y):\n",
    "            sess.run(optimizer, feed_dict={X: x, Y: y})\n",
    "\n",
    "        # Display logs per epoch step\n",
    "        if (epoch+1) % display_step == 0:\n",
    "            c = sess.run(cost, feed_dict={X: train_X, Y:train_Y})\n",
    "            print(\"Epoch:\", '%04d' % (epoch+1), \"cost=\", \"{:.9f}\".format(c), \\\n",
    "                \"W=\", sess.run(W), \"b=\", sess.run(b))\n",
    "\n",
    "    print(\"Optimization Finished!\")\n",
    "    training_cost = sess.run(cost, feed_dict={X: train_X, Y: train_Y})\n",
    "    print(\"Training cost=\", training_cost, \"W=\", sess.run(W), \"b=\", sess.run(b), '\\n')\n",
    "\n",
    "    # Graphic display\n",
    "    plt.plot(train_X, train_Y, 'ro', label='Original data')\n",
    "    plt.plot(train_X, sess.run(W) * train_X + sess.run(b), label='Fitted line')\n",
    "    plt.legend()\n",
    "    plt.show()"
   ]
  },
  {
   "cell_type": "code",
   "execution_count": null,
   "metadata": {
    "collapsed": true
   },
   "outputs": [],
   "source": []
  }
 ],
 "metadata": {
  "kernelspec": {
   "display_name": "Python 3",
   "language": "python",
   "name": "python3"
  },
  "language_info": {
   "codemirror_mode": {
    "name": "ipython",
    "version": 3
   },
   "file_extension": ".py",
   "mimetype": "text/x-python",
   "name": "python",
   "nbconvert_exporter": "python",
   "pygments_lexer": "ipython3",
   "version": "3.6.3"
  }
 },
 "nbformat": 4,
 "nbformat_minor": 2
}
